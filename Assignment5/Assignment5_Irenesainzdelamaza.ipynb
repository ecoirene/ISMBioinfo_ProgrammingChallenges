{
 "cells": [
  {
   "cell_type": "markdown",
   "metadata": {},
   "source": [
    "UniProt SPARQL Endpoint:  http://sparql.uniprot.org/sparql"
   ]
  },
  {
   "cell_type": "code",
   "execution_count": 1,
   "metadata": {},
   "outputs": [
    {
     "data": {
      "text/html": [
       "<div class=\"krn-spql\"><div class=\"magic\">Endpoint set to: https://sparql.uniprot.org/sparql</div><div class=\"magic\">Return format: JSON</div></div>"
      ],
      "text/plain": [
       "Endpoint set to: https://sparql.uniprot.org/sparql\n",
       "Return format: JSON\n"
      ]
     },
     "metadata": {},
     "output_type": "display_data"
    }
   ],
   "source": [
    "%endpoint https://sparql.uniprot.org/sparql\n",
    "%format JSON"
   ]
  },
  {
   "cell_type": "markdown",
   "metadata": {},
   "source": [
    "Q1: 1 POINT  How many protein records are in UniProt? "
   ]
  },
  {
   "cell_type": "code",
   "execution_count": 2,
   "metadata": {},
   "outputs": [
    {
     "data": {
      "text/html": [
       "<div class=\"krn-spql\"><table><tr class=hdr><th>ProtCount</th></tr><tr class=odd><td class=val>360157660</td></tr></table><div class=\"tinfo\">Total: 1, Shown: 1</div></div>"
      ]
     },
     "metadata": {},
     "output_type": "display_data"
    }
   ],
   "source": [
    "PREFIX up: <http://purl.uniprot.org/core/>\n",
    "\n",
    "SELECT (COUNT (?protein) AS ?ProtCount)\n",
    "\n",
    "WHERE\n",
    "{\n",
    "    ?protein a up:Protein .\n",
    "}"
   ]
  },
  {
   "cell_type": "markdown",
   "metadata": {},
   "source": [
    "Q2: 1 POINT How many Arabidopsis thaliana protein records are in UniProt? "
   ]
  },
  {
   "cell_type": "code",
   "execution_count": 3,
   "metadata": {},
   "outputs": [
    {
     "data": {
      "text/html": [
       "<div class=\"krn-spql\"><table><tr class=hdr><th>ProteinCount</th></tr><tr class=odd><td class=val>136782</td></tr></table><div class=\"tinfo\">Total: 1, Shown: 1</div></div>"
      ]
     },
     "metadata": {},
     "output_type": "display_data"
    }
   ],
   "source": [
    "PREFIX up:<http://purl.uniprot.org/core/> \n",
    "PREFIX taxon:<http://purl.uniprot.org/taxonomy/> \n",
    "\n",
    "SELECT (COUNT(DISTINCT ?protein) AS ?ProteinCount)\n",
    "WHERE \n",
    "{\n",
    "\t?protein a up:Protein .\n",
    "\t?protein up:organism taxon:3702 .\n",
    "}"
   ]
  },
  {
   "cell_type": "markdown",
   "metadata": {},
   "source": [
    "Q3: 1 POINT retrieve pictures of Arabidopsis thaliana from UniProt? "
   ]
  },
  {
   "cell_type": "code",
   "execution_count": 4,
   "metadata": {},
   "outputs": [
    {
     "data": {
      "text/html": [
       "<div class=\"krn-spql\"><table><tr class=hdr><th>image</th></tr><tr class=odd><td class=val><a href=\"https://upload.wikimedia.org/wikipedia/commons/3/39/Arabidopsis.jpg\" target=\"_other\">https://upload.wikimedia.org/wikipedia/commons/3/39/Arabidopsis.jpg</a></td></tr><tr class=even><td class=val><a href=\"https://upload.wikimedia.org/wikipedia/commons/thumb/6/60/Arabidopsis_thaliana_inflorescencias.jpg/800px-Arabidopsis_thaliana_inflorescencias.jpg\" target=\"_other\">https://upload.wikimedia.org/wikipedia/commons/thumb/6/60/Arabidopsis_thaliana_inflorescencias.jpg/800px-Arabidopsis_thaliana_inflorescencias.jpg</a></td></tr></table><div class=\"tinfo\">Total: 2, Shown: 2</div></div>"
      ]
     },
     "metadata": {},
     "output_type": "display_data"
    }
   ],
   "source": [
    "PREFIX up: <http://purl.uniprot.org/core/>\n",
    "PREFIX foaf: <http://xmlns.com/foaf/0.1/>\n",
    "\n",
    "select distinct ?image\n",
    "where\n",
    "{\n",
    "\t?organism up:scientificName \"Arabidopsis thaliana\" .\n",
    "\t?organism foaf:depiction ?image .\n",
    "}"
   ]
  },
  {
   "cell_type": "markdown",
   "metadata": {},
   "source": [
    "Q4: 1 POINT:  What is the description of the enzyme activity of UniProt Protein Q9SZZ8  "
   ]
  },
  {
   "cell_type": "code",
   "execution_count": 5,
   "metadata": {},
   "outputs": [
    {
     "data": {
      "text/html": [
       "<div class=\"krn-spql\"><table><tr class=hdr><th>name</th>\n",
       "<th>comment</th>\n",
       "<th>reaction</th>\n",
       "<th>activity</th></tr><tr class=odd><td class=val>Beta-carotene 3-hydroxylase</td>\n",
       "<td class=val>Nonheme diiron monooxygenase involved in the biosynthesis of xanthophylls. Specific for beta-ring hydroxylations of beta-carotene. Has also a low activity toward the beta- and epsilon-rings of alpha-carotene. No activity with acyclic carotenoids such as lycopene and neurosporene. Uses ferredoxin as an electron donor.</td>\n",
       "<td class=val>Beta-carotene + 4 reduced ferredoxin [iron-sulfur] cluster + 2 H(+) + 2 O(2) = zeaxanthin + 4 oxidized ferredoxin [iron-sulfur] cluster + 2 H(2)O.</td>\n",
       "<td class=val><a href=\"http://purl.uniprot.org/enzyme/1.14.15.24#SIPF8A63F68B2741FFE\" target=\"_other\">http://purl.uniprot.org/enzyme/1.14.15.24#SIPF8A63F68B2741FFE</a></td></tr></table><div class=\"tinfo\">Total: 1, Shown: 1</div></div>"
      ]
     },
     "metadata": {},
     "output_type": "display_data"
    }
   ],
   "source": [
    "PREFIX rdfs:<http://www.w3.org/2000/01/rdf-schema#> \n",
    "PREFIX up:<http://purl.uniprot.org/core/>\n",
    "PREFIX uniprotkb:<http://purl.uniprot.org/uniprot/>\n",
    "PREFIX skos:<http://www.w3.org/2004/02/skos/core#> \n",
    "\n",
    "SELECT ?name ?comment ?reaction ?activity\n",
    "WHERE\n",
    "{\n",
    "\tuniprotkb:Q9SZZ8 a up:Protein .\n",
    "\t\n",
    "\tuniprotkb:Q9SZZ8 up:annotation  ?annotation . \n",
    "\t?annotation a up:Function_Annotation .\n",
    "\t?annotation rdfs:comment ?comment .\n",
    "\t\n",
    "\tuniprotkb:Q9SZZ8 up:enzyme ?enzyme .\n",
    "\t?enzyme skos:prefLabel ?name .\n",
    "\t?enzyme up:activity ?activity .\n",
    "\t?activity rdfs:label ?reaction .\n",
    "}\n"
   ]
  },
  {
   "cell_type": "markdown",
   "metadata": {},
   "source": [
    "Q5: 1 POINT:  Retrieve the proteins ids, and date of submission, for proteins that have been added to UniProt this year   (HINT Google for “SPARQL FILTER by date”)"
   ]
  },
  {
   "cell_type": "code",
   "execution_count": 11,
   "metadata": {},
   "outputs": [
    {
     "data": {
      "text/html": [
       "<div class=\"krn-spql\"><table><tr class=hdr><th>protein</th>\n",
       "<th>date</th></tr><tr class=odd><td class=val><a href=\"http://purl.uniprot.org/uniprot/A0A1H7ADE3\" target=\"_other\">http://purl.uniprot.org/uniprot/A0A1H7ADE3</a></td>\n",
       "<td class=val>2021-06-02</td></tr><tr class=even><td class=val><a href=\"http://purl.uniprot.org/uniprot/A0A1V1AIL4\" target=\"_other\">http://purl.uniprot.org/uniprot/A0A1V1AIL4</a></td>\n",
       "<td class=val>2021-06-02</td></tr><tr class=odd><td class=val><a href=\"http://purl.uniprot.org/uniprot/A0A2Z0L603\" target=\"_other\">http://purl.uniprot.org/uniprot/A0A2Z0L603</a></td>\n",
       "<td class=val>2021-06-02</td></tr><tr class=even><td class=val><a href=\"http://purl.uniprot.org/uniprot/A0A4J5GG53\" target=\"_other\">http://purl.uniprot.org/uniprot/A0A4J5GG53</a></td>\n",
       "<td class=val>2021-04-07</td></tr><tr class=odd><td class=val><a href=\"http://purl.uniprot.org/uniprot/A0A6G8SU52\" target=\"_other\">http://purl.uniprot.org/uniprot/A0A6G8SU52</a></td>\n",
       "<td class=val>2021-02-10</td></tr><tr class=even><td class=val><a href=\"http://purl.uniprot.org/uniprot/A0A6G8SU69\" target=\"_other\">http://purl.uniprot.org/uniprot/A0A6G8SU69</a></td>\n",
       "<td class=val>2021-02-10</td></tr><tr class=odd><td class=val><a href=\"http://purl.uniprot.org/uniprot/A0A7C9JLR7\" target=\"_other\">http://purl.uniprot.org/uniprot/A0A7C9JLR7</a></td>\n",
       "<td class=val>2021-02-10</td></tr><tr class=even><td class=val><a href=\"http://purl.uniprot.org/uniprot/A0A7C9JMZ7\" target=\"_other\">http://purl.uniprot.org/uniprot/A0A7C9JMZ7</a></td>\n",
       "<td class=val>2021-02-10</td></tr><tr class=odd><td class=val><a href=\"http://purl.uniprot.org/uniprot/A0A7C9KUQ4\" target=\"_other\">http://purl.uniprot.org/uniprot/A0A7C9KUQ4</a></td>\n",
       "<td class=val>2021-02-10</td></tr><tr class=even><td class=val><a href=\"http://purl.uniprot.org/uniprot/A0A7D4HP61\" target=\"_other\">http://purl.uniprot.org/uniprot/A0A7D4HP61</a></td>\n",
       "<td class=val>2021-02-10</td></tr><tr class=odd><td class=val><a href=\"http://purl.uniprot.org/uniprot/A0A7D6A5N9\" target=\"_other\">http://purl.uniprot.org/uniprot/A0A7D6A5N9</a></td>\n",
       "<td class=val>2021-06-02</td></tr><tr class=even><td class=val><a href=\"http://purl.uniprot.org/uniprot/A0A7D6FMY9\" target=\"_other\">http://purl.uniprot.org/uniprot/A0A7D6FMY9</a></td>\n",
       "<td class=val>2021-02-10</td></tr><tr class=odd><td class=val><a href=\"http://purl.uniprot.org/uniprot/A0A7D6VKU9\" target=\"_other\">http://purl.uniprot.org/uniprot/A0A7D6VKU9</a></td>\n",
       "<td class=val>2021-02-10</td></tr><tr class=even><td class=val><a href=\"http://purl.uniprot.org/uniprot/A0A7D6VKZ9\" target=\"_other\">http://purl.uniprot.org/uniprot/A0A7D6VKZ9</a></td>\n",
       "<td class=val>2021-02-10</td></tr><tr class=odd><td class=val><a href=\"http://purl.uniprot.org/uniprot/A0A7D7EJU1\" target=\"_other\">http://purl.uniprot.org/uniprot/A0A7D7EJU1</a></td>\n",
       "<td class=val>2021-02-10</td></tr><tr class=even><td class=val><a href=\"http://purl.uniprot.org/uniprot/A0A7D7HYH9\" target=\"_other\">http://purl.uniprot.org/uniprot/A0A7D7HYH9</a></td>\n",
       "<td class=val>2021-02-10</td></tr><tr class=odd><td class=val><a href=\"http://purl.uniprot.org/uniprot/A0A7G5HK20\" target=\"_other\">http://purl.uniprot.org/uniprot/A0A7G5HK20</a></td>\n",
       "<td class=val>2021-02-10</td></tr><tr class=even><td class=val><a href=\"http://purl.uniprot.org/uniprot/A0A7G6B4J7\" target=\"_other\">http://purl.uniprot.org/uniprot/A0A7G6B4J7</a></td>\n",
       "<td class=val>2021-02-10</td></tr><tr class=odd><td class=val><a href=\"http://purl.uniprot.org/uniprot/A0A7G6T9F2\" target=\"_other\">http://purl.uniprot.org/uniprot/A0A7G6T9F2</a></td>\n",
       "<td class=val>2021-02-10</td></tr><tr class=even><td class=val><a href=\"http://purl.uniprot.org/uniprot/A0A7G7EDL3\" target=\"_other\">http://purl.uniprot.org/uniprot/A0A7G7EDL3</a></td>\n",
       "<td class=val>2021-02-10</td></tr></table><div class=\"tinfo\">Total: 50, Shown: 20</div></div>"
      ]
     },
     "metadata": {},
     "output_type": "display_data"
    }
   ],
   "source": [
    "PREFIX up:<http://purl.uniprot.org/core/>\n",
    "PREFIX xsd: <http://www.w3.org/2001/XMLSchema#>\n",
    "\n",
    "SELECT ?protein ?date\n",
    "WHERE \n",
    "{\n",
    "    ?protein a up:Protein ;\n",
    "             up:created ?date .\n",
    "    FILTER ( ?date >= \"2021-01-01\"^^xsd:date  && ?date < \"2022-01-01\"^^xsd:date) .\n",
    "} \n",
    "\n",
    "LIMIT 50  \n"
   ]
  },
  {
   "cell_type": "markdown",
   "metadata": {},
   "source": [
    "Q6: 1 POINT How  many species are in the UniProt taxonomy?"
   ]
  },
  {
   "cell_type": "code",
   "execution_count": 12,
   "metadata": {},
   "outputs": [
    {
     "data": {
      "text/html": [
       "<div class=\"krn-spql\"><table><tr class=hdr><th>speciescount</th></tr><tr class=odd><td class=val>2029846</td></tr></table><div class=\"tinfo\">Total: 1, Shown: 1</div></div>"
      ]
     },
     "metadata": {},
     "output_type": "display_data"
    }
   ],
   "source": [
    "PREFIX up:<http://purl.uniprot.org/core/> \n",
    " \n",
    "SELECT (COUNT (DISTINCT ?species) AS ?speciescount)\n",
    "WHERE\n",
    "{\n",
    "    ?species a up:Taxon ;\n",
    "             up:rank up:Species .\n",
    "}"
   ]
  },
  {
   "cell_type": "markdown",
   "metadata": {},
   "source": [
    "Q7: 2 POINT  How many species have at least one protein record? (this might take a long time to execute, so do this one last!)"
   ]
  },
  {
   "cell_type": "code",
   "execution_count": 2,
   "metadata": {},
   "outputs": [
    {
     "data": {
      "text/html": [
       "<div class=\"krn-spql\"><table><tr class=hdr><th>count</th></tr><tr class=odd><td class=val>1057158</td></tr></table><div class=\"tinfo\">Total: 1, Shown: 1</div></div>"
      ]
     },
     "metadata": {},
     "output_type": "display_data"
    }
   ],
   "source": [
    "PREFIX up: <http://purl.uniprot.org/core/>\n",
    "\n",
    "SELECT (COUNT (DISTINCT ?species) AS ?count)\n",
    "\n",
    "WHERE\n",
    "{\n",
    "    ?protein a up:Protein;\n",
    "        up:organism ?species .\n",
    "    ?species a up:Taxon;\n",
    "        up:rank up:Species .\n",
    "}"
   ]
  },
  {
   "cell_type": "markdown",
   "metadata": {},
   "source": [
    "Q8: 3 points:  find the AGI codes and gene names for all Arabidopsis thaliana  proteins that have a protein function annotation description that mentions “pattern formation”"
   ]
  },
  {
   "cell_type": "code",
   "execution_count": 2,
   "metadata": {},
   "outputs": [
    {
     "data": {
      "text/html": [
       "<div class=\"krn-spql\"><table><tr class=hdr><th>agicode</th>\n",
       "<th>name</th></tr><tr class=odd><td class=val>At3g54220</td>\n",
       "<td class=val>SCR</td></tr><tr class=even><td class=val>At4g21750</td>\n",
       "<td class=val>ATML1</td></tr><tr class=odd><td class=val>At1g13980</td>\n",
       "<td class=val>GN</td></tr><tr class=even><td class=val>At5g40260</td>\n",
       "<td class=val>SWEET8</td></tr><tr class=odd><td class=val>At1g69670</td>\n",
       "<td class=val>CUL3B</td></tr><tr class=even><td class=val>At1g63700</td>\n",
       "<td class=val>YDA</td></tr><tr class=odd><td class=val>At2g46710</td>\n",
       "<td class=val>ROPGAP3</td></tr><tr class=even><td class=val>At1g26830</td>\n",
       "<td class=val>CUL3A</td></tr><tr class=odd><td class=val>At3g09090</td>\n",
       "<td class=val>DEX1</td></tr><tr class=even><td class=val>At4g37650</td>\n",
       "<td class=val>SHR</td></tr><tr class=odd><td class=val>At5g55250</td>\n",
       "<td class=val>IAMT1</td></tr><tr class=even><td class=val>At3g02130</td>\n",
       "<td class=val>RPK2</td></tr><tr class=odd><td class=val>At2g42580</td>\n",
       "<td class=val>TTL3</td></tr><tr class=even><td class=val>At1g69270</td>\n",
       "<td class=val>RPK1</td></tr><tr class=odd><td class=val>At5g02010</td>\n",
       "<td class=val>ROPGEF7</td></tr><tr class=even><td class=val>At1g66470</td>\n",
       "<td class=val>RHD6</td></tr><tr class=odd><td class=val>At5g37800</td>\n",
       "<td class=val>RSL1</td></tr></table><div class=\"tinfo\">Total: 17, Shown: 17</div></div>"
      ]
     },
     "metadata": {},
     "output_type": "display_data"
    }
   ],
   "source": [
    "PREFIX up:<http://purl.uniprot.org/core/>\n",
    "PREFIX taxon:<http://purl.uniprot.org/taxonomy/>\n",
    "PREFIX rdfs: <http://www.w3.org/2000/01/rdf-schema#>\n",
    "PREFIX skos:<http://www.w3.org/2004/02/skos/core#>\n",
    "\n",
    "SELECT ?agicode ?name \n",
    "WHERE\n",
    "{\n",
    "    ?protein a up:Protein ;\n",
    "             up:organism ?taxon ;\n",
    "             up:encodedBy ?gene ; \n",
    "             up:annotation  ?annotation . \n",
    "    \n",
    "    ?taxon a up:Taxon ;\n",
    "           up:scientificName \"Arabidopsis thaliana\" .\n",
    "\n",
    "    ?annotation a up:Function_Annotation ; \n",
    "                rdfs:comment ?annot_comment . \n",
    "    \n",
    "    ?gene a up:Gene ;\n",
    "          up:locusName ?agicode ; \n",
    "          skos:prefLabel ?name . \n",
    "\n",
    "\tFILTER CONTAINS(STR(?annot_comment), 'pattern formation') .     \n",
    "}\n",
    " \n",
    "    "
   ]
  },
  {
   "cell_type": "markdown",
   "metadata": {},
   "source": [
    "From the MetaNetX metabolic networks for metagenomics database SPARQL Endpoint: https://rdf.metanetx.org/sparql\n",
    "(this slide deck will make it much easier for you!  https://www.metanetx.org/cgi-bin/mnxget/mnxref/MetaNetX_RDF_schema.pdf)\n",
    "\n",
    "Q9: 4 POINTS:  what is the MetaNetX Reaction identifier (starts with “mnxr”) for the UniProt Protein uniprotkb:Q18A79"
   ]
  },
  {
   "cell_type": "code",
   "execution_count": 5,
   "metadata": {},
   "outputs": [
    {
     "data": {
      "text/html": [
       "<div class=\"krn-spql\"><div class=\"magic\">Endpoint set to: https://rdf.metanetx.org/sparql</div></div>"
      ],
      "text/plain": [
       "Endpoint set to: https://rdf.metanetx.org/sparql\n"
      ]
     },
     "metadata": {},
     "output_type": "display_data"
    }
   ],
   "source": [
    "%endpoint https://rdf.metanetx.org/sparql"
   ]
  },
  {
   "cell_type": "code",
   "execution_count": 10,
   "metadata": {},
   "outputs": [
    {
     "data": {
      "text/html": [
       "<div class=\"krn-spql\"><table><tr class=hdr><th>mnxr_lb</th></tr><tr class=odd><td class=val>MNXR145046</td></tr><tr class=even><td class=val>MNXR165934</td></tr></table><div class=\"tinfo\">Total: 2, Shown: 2</div></div>"
      ]
     },
     "metadata": {},
     "output_type": "display_data"
    }
   ],
   "source": [
    "PREFIX mnx: <https://rdf.metanetx.org/schema/>\n",
    "PREFIX rdfs: <http://www.w3.org/2000/01/rdf-schema#>\n",
    "PREFIX uniprotkb: <http://purl.uniprot.org/uniprot/>\n",
    "\n",
    "SELECT DISTINCT ?mnxr_lb\n",
    "\n",
    "WHERE\n",
    "{\n",
    "    ?protein mnx:peptXref uniprotkb:Q18A79 .\n",
    "    ?cata a mnx:CATA;\n",
    "        mnx:pept ?protein .\n",
    "    ?gpr mnx:cata ?cata ;\n",
    "        mnx:reac ?reaction .\n",
    "    ?reaction a mnx:REAC ; \n",
    "        mnx:mnxr ?mnxr .\n",
    "    ?mnxr rdfs:label ?mnxr_lb .\n",
    "}"
   ]
  },
  {
   "cell_type": "markdown",
   "metadata": {},
   "source": [
    "FEDERATED QUERY - UniProt and MetaNetX\n",
    "\n",
    "Q10: 5 POINTS:  What is the official Gene ID (UniProt calls this a “mnemonic”) and the MetaNetX Reaction identifier (mnxr…..) for the protein that has “Starch synthase” catalytic activity in Clostridium difficile (taxon 272563)."
   ]
  },
  {
   "cell_type": "code",
   "execution_count": 12,
   "metadata": {},
   "outputs": [
    {
     "data": {
      "text/html": [
       "<div class=\"krn-spql\"><table><tr class=hdr><th>ID</th>\n",
       "<th>MNXID</th>\n",
       "<th>activity</th></tr><tr class=odd><td class=val>GLGA_CLOD6</td>\n",
       "<td class=val>mnxr165934</td>\n",
       "<td class=val>starch synthase activity</td></tr><tr class=even><td class=val>GLGA_CLOD6</td>\n",
       "<td class=val>mnxr145046c3</td>\n",
       "<td class=val>starch synthase activity</td></tr></table><div class=\"tinfo\">Total: 2, Shown: 2</div></div>"
      ]
     },
     "metadata": {},
     "output_type": "display_data"
    }
   ],
   "source": [
    "PREFIX up: <http://purl.uniprot.org/core/>\n",
    "PREFIX rdfs: <http://www.w3.org/2000/01/rdf-schema#>\n",
    "PREFIX mnx: <https://rdf.metanetx.org/schema/>\n",
    "PREFIX uniprotkb: <http://purl.uniprot.org/uniprot/>\n",
    "PREFIX taxon: <http://purl.uniprot.org/taxonomy/>\n",
    "\n",
    "SELECT DISTINCT ?ID ?MNXID ?activity\n",
    "WHERE\n",
    "{\n",
    "  service <http://sparql.uniprot.org/sparql> {\n",
    "    ?protein a up:Protein ;\n",
    "    \tup:organism taxon:272563 ;\n",
    "    \tup:mnemonic ?ID ;\n",
    "     \tup:classifiedWith ?GO .\n",
    "    ?GO rdfs:label ?activity .\n",
    "    filter contains(?activity, \"starch synthase\")\n",
    "    bind (substr(str(?protein),33) as ?prot_ac)\n",
    "    bind (IRI(CONCAT(uniprotkb:,?prot_ac)) as ?uniprotRef)\n",
    "  }\n",
    "  service <https://rdf.metanetx.org/sparql> {\n",
    "    ?pept mnx:peptXref ?uniprotRef .\n",
    "    ?cata mnx:pept ?pept .\n",
    "    ?gpr mnx:cata ?cata ;\n",
    "         mnx:reac ?reac .\n",
    "    ?reac rdfs:label ?MNXID .\n",
    "  }\n",
    "}\n",
    "   "
   ]
  },
  {
   "cell_type": "code",
   "execution_count": null,
   "metadata": {},
   "outputs": [],
   "source": []
  }
 ],
 "metadata": {
  "kernelspec": {
   "display_name": "SPARQL",
   "language": "sparql",
   "name": "sparql"
  },
  "language_info": {
   "codemirror_mode": {
    "name": "sparql"
   },
   "mimetype": "application/sparql-query",
   "name": "sparql",
   "pygments_lexer": "sparql-nb"
  }
 },
 "nbformat": 4,
 "nbformat_minor": 2
}
